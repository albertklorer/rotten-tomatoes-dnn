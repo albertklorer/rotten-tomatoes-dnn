{
  "nbformat": 4,
  "nbformat_minor": 0,
  "metadata": {
    "colab": {
      "name": "rotten-tomatoes-dnn.ipynb",
      "provenance": [],
      "collapsed_sections": [],
      "authorship_tag": "ABX9TyPFLEJoAEuIG+mQO1jws4Rq",
      "include_colab_link": true
    },
    "kernelspec": {
      "name": "python3",
      "display_name": "Python 3"
    },
    "accelerator": "GPU"
  },
  "cells": [
    {
      "cell_type": "markdown",
      "metadata": {
        "id": "view-in-github",
        "colab_type": "text"
      },
      "source": [
        "<a href=\"https://colab.research.google.com/github/albertklorer/rotten-tomatoes-dnn/blob/master/rotten_tomatoes_dnn.ipynb\" target=\"_parent\"><img src=\"https://colab.research.google.com/assets/colab-badge.svg\" alt=\"Open In Colab\"/></a>"
      ]
    },
    {
      "cell_type": "code",
      "metadata": {
        "id": "79QEyKeh9Aqg",
        "colab_type": "code",
        "colab": {
          "base_uri": "https://localhost:8080/",
          "height": 119
        },
        "outputId": "7deeb5da-09d2-44e2-a920-382a0b510ff7"
      },
      "source": [
        "!pip install sister"
      ],
      "execution_count": 15,
      "outputs": [
        {
          "output_type": "stream",
          "text": [
            "Requirement already satisfied: sister in /usr/local/lib/python3.6/dist-packages (0.1.5)\n",
            "Requirement already satisfied: fasttext in /usr/local/lib/python3.6/dist-packages (from sister) (0.9.1)\n",
            "Requirement already satisfied: numpy in /usr/local/lib/python3.6/dist-packages (from sister) (1.18.2)\n",
            "Requirement already satisfied: Janome in /usr/local/lib/python3.6/dist-packages (from sister) (0.3.10)\n",
            "Requirement already satisfied: setuptools>=0.7.0 in /usr/local/lib/python3.6/dist-packages (from fasttext->sister) (46.0.0)\n",
            "Requirement already satisfied: pybind11>=2.2 in /usr/local/lib/python3.6/dist-packages (from fasttext->sister) (2.5.0)\n"
          ],
          "name": "stdout"
        }
      ]
    },
    {
      "cell_type": "markdown",
      "metadata": {
        "id": "FwTTCnq31NnC",
        "colab_type": "text"
      },
      "source": [
        "Predicting freshness of Rotten Tomatoes reviews using deep learning. Activate GPU hardware accelerator and internet access before running. Dataset is accessible [here](https://github.com/nicolas-gervais/rotten-tomatoes-dataset) and must be uploaded into files for the notebook to be run."
      ]
    },
    {
      "cell_type": "markdown",
      "metadata": {
        "id": "VK9z2oX-2MFV",
        "colab_type": "text"
      },
      "source": [
        "Read csv to dataframe, clean & split."
      ]
    },
    {
      "cell_type": "code",
      "metadata": {
        "id": "yPMobUHM0euk",
        "colab_type": "code",
        "colab": {
          "base_uri": "https://localhost:8080/",
          "height": 255
        },
        "outputId": "efe7c35e-0871-4ade-e406-9401aedc91aa"
      },
      "source": [
        "import pandas as pd\n",
        "import numpy as np\n",
        "import re\n",
        "import matplotlib.pyplot as plt\n",
        "import sister\n",
        "import tensorflow as tf\n",
        "\n",
        "# read csv\n",
        "data = pd.read_csv('rotten_tomatoes_reviews.csv')\n",
        "\n",
        "# strip bad characters\n",
        "data['Review'].replace(to_replace='([^\\s\\w]|_)+', value='',inplace=True,regex=True)\n",
        "\n",
        "# strip string of trailing or leading blank spaces and uppercase characters\n",
        "data['Review'] = data['Review'].str.strip().str.lower()\n",
        "\n",
        "data.head"
      ],
      "execution_count": 16,
      "outputs": [
        {
          "output_type": "execute_result",
          "data": {
            "text/plain": [
              "<bound method NDFrame.head of         Freshness                                             Review\n",
              "0               1  manakamana doesnt answer any questions yet mak...\n",
              "1               1  wilfully offensive and powered by a chestthump...\n",
              "2               0  it would be difficult to imagine material more...\n",
              "3               0  despite the gusto its star brings to the role ...\n",
              "4               0  if there was a good idea at the core of this f...\n",
              "...           ...                                                ...\n",
              "479995          0  zemeckis seems unable to admit that the motion...\n",
              "479996          1  movies like the kids are all right  beautifull...\n",
              "479997          0  filmsavvy audiences soon will catch onto winte...\n",
              "479998          1                          an odd yet enjoyable film\n",
              "479999          1  no other animation studio even our beloved pix...\n",
              "\n",
              "[480000 rows x 2 columns]>"
            ]
          },
          "metadata": {
            "tags": []
          },
          "execution_count": 16
        }
      ]
    },
    {
      "cell_type": "markdown",
      "metadata": {
        "id": "Vftuj5cJ9YmV",
        "colab_type": "text"
      },
      "source": [
        "Vectorize reviews using SISTER."
      ]
    },
    {
      "cell_type": "code",
      "metadata": {
        "id": "7RbDQhrc9d8N",
        "colab_type": "code",
        "colab": {
          "base_uri": "https://localhost:8080/",
          "height": 374
        },
        "outputId": "201d78fe-a91c-40e1-c724-f68ad5ead647"
      },
      "source": [
        "embedder = sister.MeanEmbedding(lang=\"en\")\n",
        "for i in range(len(data['Review'])):\n",
        "  data['Review'][i] = embedder(data['Review'][i])\n",
        "\n",
        "# drop columns containing null values\n",
        "data.dropna()\n",
        "\n",
        "data.head"
      ],
      "execution_count": 17,
      "outputs": [
        {
          "output_type": "stream",
          "text": [
            "Loading model...\n"
          ],
          "name": "stdout"
        },
        {
          "output_type": "stream",
          "text": [
            "\n",
            "/usr/local/lib/python3.6/dist-packages/ipykernel_launcher.py:3: SettingWithCopyWarning: \n",
            "A value is trying to be set on a copy of a slice from a DataFrame\n",
            "\n",
            "See the caveats in the documentation: https://pandas.pydata.org/pandas-docs/stable/user_guide/indexing.html#returning-a-view-versus-a-copy\n",
            "  This is separate from the ipykernel package so we can avoid doing imports until\n"
          ],
          "name": "stderr"
        },
        {
          "output_type": "execute_result",
          "data": {
            "text/plain": [
              "<bound method NDFrame.head of         Freshness                                             Review\n",
              "0               1  [0.18384874, -0.0091378745, 0.15983199, -0.184...\n",
              "1               1  [0.16536771, 0.11255017, 0.12681499, -0.109842...\n",
              "2               0  [0.13901259, 0.065217115, 0.23082313, -0.22655...\n",
              "3               0  [0.012283215, -0.058382217, 0.083909534, -0.15...\n",
              "4               0  [0.1516958, -0.006825123, 0.11576117, -0.20499...\n",
              "...           ...                                                ...\n",
              "479995          0  [0.14600046, 0.0019746097, 0.1585292, -0.14987...\n",
              "479996          1  [0.11742728, 0.033769563, 0.15254678, -0.18786...\n",
              "479997          0  [0.068726666, 0.020809036, 0.09510329, -0.1425...\n",
              "479998          1  [0.15909594, -0.007812688, 0.22323807, -0.3103...\n",
              "479999          1  [0.114034325, -0.10030422, 0.16722582, -0.2100...\n",
              "\n",
              "[480000 rows x 2 columns]>"
            ]
          },
          "metadata": {
            "tags": []
          },
          "execution_count": 17
        }
      ]
    },
    {
      "cell_type": "markdown",
      "metadata": {
        "id": "3BaUnwFeDpjq",
        "colab_type": "text"
      },
      "source": [
        "Split training and testing data."
      ]
    },
    {
      "cell_type": "code",
      "metadata": {
        "id": "npnFnaxWNCtk",
        "colab_type": "code",
        "colab": {
          "base_uri": "https://localhost:8080/",
          "height": 34
        },
        "outputId": "6c7967d3-fa57-4772-ddcc-cae8587fad43"
      },
      "source": [
        "from sklearn.model_selection import train_test_split\n",
        "\n",
        "# divide data into features and labels\n",
        "x = np.stack(data['Review'])\n",
        "y = data['Freshness'].to_numpy()\n",
        "\n",
        "# split train and testing data\n",
        "x_train, x_test, y_train, y_test = train_test_split(x, y)"
      ],
      "execution_count": 43,
      "outputs": [
        {
          "output_type": "stream",
          "text": [
            "(360000, 300)\n"
          ],
          "name": "stdout"
        }
      ]
    },
    {
      "cell_type": "markdown",
      "metadata": {
        "id": "rm-qsS1dO_r4",
        "colab_type": "text"
      },
      "source": [
        "\n",
        "Create model"
      ]
    },
    {
      "cell_type": "code",
      "metadata": {
        "id": "XQ_JixBAO-49",
        "colab_type": "code",
        "colab": {}
      },
      "source": [
        "model = tf.keras.models.Sequential()\n",
        "\n",
        "# add input layer\n",
        "model.add(\n",
        "  tf.keras.layers.Dense(\n",
        "    units=1024,\n",
        "    input_dim=x_train.shape[1],\n",
        "    kernel_initializer='glorot_uniform',\n",
        "    bias_initializer='zeros',\n",
        "    activation='tanh'\n",
        "  ) \n",
        ")\n",
        "\n",
        "# add hidden layer\n",
        "model.add(\n",
        "  tf.keras.layers.Dense(\n",
        "      units=512,\n",
        "      input_dim=1024,\n",
        "      kernel_initializer='glorot_uniform',\n",
        "      bias_initializer='zeros',\n",
        "      activation='tanh'\n",
        "    )\n",
        ")\n",
        "\n",
        "# add hidden layer\n",
        "model.add(\n",
        "  tf.keras.layers.Dense(\n",
        "      units=264,\n",
        "      input_dim=512,\n",
        "      kernel_initializer='glorot_uniform',\n",
        "      bias_initializer='zeros',\n",
        "      activation='tanh'\n",
        "    )\n",
        ")\n",
        "\n",
        "# add ouput layer\n",
        "model.add(\n",
        "  tf.keras.layers.Dense(\n",
        "      units=1,\n",
        "      input_dim=512,\n",
        "      kernel_initializer='glorot_uniform',\n",
        "      bias_initializer='zeros',\n",
        "      activation='tanh'\n",
        "  )\n",
        ")\n",
        "\n",
        "# define SGD optimizer\n",
        "sgd_optimizer = tf.keras.optimizers.SGD(\n",
        "    lr=0.0001, decay=1e-7, momentum=0.9\n",
        ")\n",
        "\n",
        "# compile model\n",
        "model.compile(\n",
        "    optimizer=sgd_optimizer,\n",
        "    loss='mse',\n",
        "    metrics=['acc']\n",
        ")"
      ],
      "execution_count": 0,
      "outputs": []
    },
    {
      "cell_type": "markdown",
      "metadata": {
        "id": "Aimzfxt3qaFT",
        "colab_type": "text"
      },
      "source": [
        "Train model and get prediction accuracy"
      ]
    },
    {
      "cell_type": "code",
      "metadata": {
        "id": "kxzObReTqcLd",
        "colab_type": "code",
        "colab": {
          "base_uri": "https://localhost:8080/",
          "height": 561
        },
        "outputId": "830520ca-8e86-4b64-afc6-67a50cb6288d"
      },
      "source": [
        "with tf.device('/gpu:0'):\n",
        "  history = model.fit(x_train, y_train, epochs=15, verbose=1, validation_split=0.2)\n",
        "\n",
        "score = model.evaluate(x=x_test, y=y_test)\n",
        "print('Score: ', score)"
      ],
      "execution_count": 48,
      "outputs": [
        {
          "output_type": "stream",
          "text": [
            "Epoch 1/15\n",
            "9000/9000 [==============================] - 22s 2ms/step - loss: 0.2306 - acc: 0.6226 - val_loss: 0.2199 - val_acc: 0.6548\n",
            "Epoch 2/15\n",
            "9000/9000 [==============================] - 22s 2ms/step - loss: 0.2151 - acc: 0.6653 - val_loss: 0.2120 - val_acc: 0.6748\n",
            "Epoch 3/15\n",
            "9000/9000 [==============================] - 21s 2ms/step - loss: 0.2101 - acc: 0.6753 - val_loss: 0.2093 - val_acc: 0.6763\n",
            "Epoch 4/15\n",
            "9000/9000 [==============================] - 22s 2ms/step - loss: 0.2080 - acc: 0.6801 - val_loss: 0.2074 - val_acc: 0.6834\n",
            "Epoch 5/15\n",
            "9000/9000 [==============================] - 22s 2ms/step - loss: 0.2069 - acc: 0.6823 - val_loss: 0.2065 - val_acc: 0.6864\n",
            "Epoch 6/15\n",
            "9000/9000 [==============================] - 21s 2ms/step - loss: 0.2064 - acc: 0.6830 - val_loss: 0.2060 - val_acc: 0.6870\n",
            "Epoch 7/15\n",
            "9000/9000 [==============================] - 22s 2ms/step - loss: 0.2060 - acc: 0.6833 - val_loss: 0.2059 - val_acc: 0.6883\n",
            "Epoch 8/15\n",
            "9000/9000 [==============================] - 22s 2ms/step - loss: 0.2058 - acc: 0.6841 - val_loss: 0.2056 - val_acc: 0.6880\n",
            "Epoch 9/15\n",
            "9000/9000 [==============================] - 22s 2ms/step - loss: 0.2057 - acc: 0.6850 - val_loss: 0.2054 - val_acc: 0.6882\n",
            "Epoch 10/15\n",
            "9000/9000 [==============================] - 22s 2ms/step - loss: 0.2056 - acc: 0.6851 - val_loss: 0.2056 - val_acc: 0.6844\n",
            "Epoch 11/15\n",
            "9000/9000 [==============================] - 22s 2ms/step - loss: 0.2055 - acc: 0.6847 - val_loss: 0.2057 - val_acc: 0.6899\n",
            "Epoch 12/15\n",
            "9000/9000 [==============================] - 22s 2ms/step - loss: 0.2055 - acc: 0.6850 - val_loss: 0.2054 - val_acc: 0.6861\n",
            "Epoch 13/15\n",
            "9000/9000 [==============================] - 22s 2ms/step - loss: 0.2054 - acc: 0.6851 - val_loss: 0.2057 - val_acc: 0.6899\n",
            "Epoch 14/15\n",
            "9000/9000 [==============================] - 22s 2ms/step - loss: 0.2054 - acc: 0.6851 - val_loss: 0.2053 - val_acc: 0.6861\n",
            "Epoch 15/15\n",
            "9000/9000 [==============================] - 22s 2ms/step - loss: 0.2054 - acc: 0.6846 - val_loss: 0.2053 - val_acc: 0.6902\n",
            "3750/3750 [==============================] - 6s 2ms/step - loss: 0.2055 - acc: 0.6880\n",
            "Score:  [0.20546995103359222, 0.6880499720573425]\n"
          ],
          "name": "stdout"
        }
      ]
    },
    {
      "cell_type": "markdown",
      "metadata": {
        "id": "wlW6RCoMsK5o",
        "colab_type": "text"
      },
      "source": [
        "Display graph of training"
      ]
    },
    {
      "cell_type": "code",
      "metadata": {
        "id": "WEThy9issgSL",
        "colab_type": "code",
        "colab": {
          "base_uri": "https://localhost:8080/",
          "height": 573
        },
        "outputId": "d591b5c2-034d-4d87-ee7d-c148026bb3f0"
      },
      "source": [
        "plt.plot(history.history['acc'])\n",
        "plt.plot(history.history['val_acc'])\n",
        "\n",
        "plt.title('model accuracy')\n",
        "plt.ylabel('accuracy')\n",
        "plt.xlabel('epoch')\n",
        "plt.legend(['train','test'], loc='upper left')\n",
        "plt.show()\n",
        "\n",
        "plt.plot(history.history['loss'])\n",
        "plt.plot(history.history['val_loss'])\n",
        "\n",
        "plt.title('model loss')\n",
        "plt.ylabel('loss')\n",
        "plt.xlabel('epoch')\n",
        "plt.legend(['train','test'], loc='upper left')\n",
        "plt.show()"
      ],
      "execution_count": 49,
      "outputs": [
        {
          "output_type": "display_data",
          "data": {
            "image/png": "[encoded data removed]",
            "text/plain": [
              "<Figure size 432x288 with 1 Axes>"
            ]
          },
          "metadata": {
            "tags": []
          }
        },
        {
          "output_type": "display_data",
          "data": {
            "image/png": "[encoded data removed]",
            "text/plain": [
              "<Figure size 432x288 with 1 Axes>"
            ]
          },
          "metadata": {
            "tags": []
          }
        }
      ]
    }
  ]
}